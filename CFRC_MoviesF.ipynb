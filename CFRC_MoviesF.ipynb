{
 "cells": [
  {
   "cell_type": "code",
   "execution_count": 1,
   "id": "3c06ac48",
   "metadata": {},
   "outputs": [],
   "source": [
    "import pandas as pd\n",
    "import numpy as np\n",
    "import tensorflow as tf\n",
    "from tensorflow import keras\n",
    "from tensorflow.keras import layers\n",
    "from pathlib import Path\n",
    "import matplotlib.pyplot as plt\n"
   ]
  },
  {
   "cell_type": "code",
   "execution_count": 2,
   "id": "626a67c7",
   "metadata": {},
   "outputs": [
    {
     "name": "stdout",
     "output_type": "stream",
     "text": [
      "CFRC_Amazon.ipynb        \u001b[34mbookDataset\u001b[m\u001b[m/             movies_history.pkl\r\n",
      "CFRC_Books-2.ipynb       books_history.pkl        movies_history_1.pkl\r\n",
      "CFRC_Books.ipynb         books_history_1.pkl      movies_history_2.pkl\r\n",
      "CFRC_BooksF.ipynb        books_history_2.pkl      \u001b[34mmovies_logs\u001b[m\u001b[m/\r\n",
      "CFRC_Movies.ipynb        \u001b[34mbooks_logs\u001b[m\u001b[m/              prepdata.py\r\n",
      "CFRC_MoviesF.ipynb       makeRec.py               ratings_Electronics.csv\r\n",
      "ExploringData.ipynb      \u001b[34mml-latest-small\u001b[m\u001b[m/         recmodel.py\r\n",
      "\u001b[34m__pycache__\u001b[m\u001b[m/             model01.h5\r\n"
     ]
    }
   ],
   "source": [
    "ls"
   ]
  },
  {
   "cell_type": "markdown",
   "id": "eb3bf49b",
   "metadata": {},
   "source": [
    "# First, load the data and apply preprocessing"
   ]
  },
  {
   "cell_type": "code",
   "execution_count": 3,
   "id": "99901b2d",
   "metadata": {},
   "outputs": [],
   "source": [
    "from prepdata import load"
   ]
  },
  {
   "cell_type": "code",
   "execution_count": 4,
   "id": "be0b1998",
   "metadata": {},
   "outputs": [],
   "source": [
    "import os\n",
    "#movie dir holds both  ratings.csv and movies.csv\n",
    "movies_dir = os.path.abspath(os.path.abspath(\"ml-latest-small\"))"
   ]
  },
  {
   "cell_type": "code",
   "execution_count": 5,
   "id": "a65d635e",
   "metadata": {},
   "outputs": [],
   "source": [
    "df, movies_df = load(\"movies\", movies_dir)"
   ]
  },
  {
   "cell_type": "markdown",
   "id": "0096da23",
   "metadata": {},
   "source": [
    "- itemId reperesent \"movie id\" in this notebook"
   ]
  },
  {
   "cell_type": "code",
   "execution_count": 6,
   "id": "23b43e4c",
   "metadata": {
    "scrolled": false
   },
   "outputs": [
    {
     "data": {
      "text/html": [
       "<div>\n",
       "<style scoped>\n",
       "    .dataframe tbody tr th:only-of-type {\n",
       "        vertical-align: middle;\n",
       "    }\n",
       "\n",
       "    .dataframe tbody tr th {\n",
       "        vertical-align: top;\n",
       "    }\n",
       "\n",
       "    .dataframe thead th {\n",
       "        text-align: right;\n",
       "    }\n",
       "</style>\n",
       "<table border=\"1\" class=\"dataframe\">\n",
       "  <thead>\n",
       "    <tr style=\"text-align: right;\">\n",
       "      <th></th>\n",
       "      <th>userId</th>\n",
       "      <th>itemId</th>\n",
       "      <th>rating</th>\n",
       "    </tr>\n",
       "  </thead>\n",
       "  <tbody>\n",
       "    <tr>\n",
       "      <th>0</th>\n",
       "      <td>1</td>\n",
       "      <td>1</td>\n",
       "      <td>4.0</td>\n",
       "    </tr>\n",
       "    <tr>\n",
       "      <th>1</th>\n",
       "      <td>1</td>\n",
       "      <td>3</td>\n",
       "      <td>4.0</td>\n",
       "    </tr>\n",
       "    <tr>\n",
       "      <th>2</th>\n",
       "      <td>1</td>\n",
       "      <td>6</td>\n",
       "      <td>4.0</td>\n",
       "    </tr>\n",
       "    <tr>\n",
       "      <th>3</th>\n",
       "      <td>1</td>\n",
       "      <td>47</td>\n",
       "      <td>5.0</td>\n",
       "    </tr>\n",
       "    <tr>\n",
       "      <th>4</th>\n",
       "      <td>1</td>\n",
       "      <td>50</td>\n",
       "      <td>5.0</td>\n",
       "    </tr>\n",
       "    <tr>\n",
       "      <th>...</th>\n",
       "      <td>...</td>\n",
       "      <td>...</td>\n",
       "      <td>...</td>\n",
       "    </tr>\n",
       "    <tr>\n",
       "      <th>100831</th>\n",
       "      <td>610</td>\n",
       "      <td>166534</td>\n",
       "      <td>4.0</td>\n",
       "    </tr>\n",
       "    <tr>\n",
       "      <th>100832</th>\n",
       "      <td>610</td>\n",
       "      <td>168248</td>\n",
       "      <td>5.0</td>\n",
       "    </tr>\n",
       "    <tr>\n",
       "      <th>100833</th>\n",
       "      <td>610</td>\n",
       "      <td>168250</td>\n",
       "      <td>5.0</td>\n",
       "    </tr>\n",
       "    <tr>\n",
       "      <th>100834</th>\n",
       "      <td>610</td>\n",
       "      <td>168252</td>\n",
       "      <td>5.0</td>\n",
       "    </tr>\n",
       "    <tr>\n",
       "      <th>100835</th>\n",
       "      <td>610</td>\n",
       "      <td>170875</td>\n",
       "      <td>3.0</td>\n",
       "    </tr>\n",
       "  </tbody>\n",
       "</table>\n",
       "<p>100836 rows × 3 columns</p>\n",
       "</div>"
      ],
      "text/plain": [
       "        userId  itemId  rating\n",
       "0            1       1     4.0\n",
       "1            1       3     4.0\n",
       "2            1       6     4.0\n",
       "3            1      47     5.0\n",
       "4            1      50     5.0\n",
       "...        ...     ...     ...\n",
       "100831     610  166534     4.0\n",
       "100832     610  168248     5.0\n",
       "100833     610  168250     5.0\n",
       "100834     610  168252     5.0\n",
       "100835     610  170875     3.0\n",
       "\n",
       "[100836 rows x 3 columns]"
      ]
     },
     "execution_count": 6,
     "metadata": {},
     "output_type": "execute_result"
    }
   ],
   "source": [
    "df"
   ]
  },
  {
   "cell_type": "code",
   "execution_count": 12,
   "id": "26a0d041",
   "metadata": {},
   "outputs": [],
   "source": [
    "from prepdata import createList, formatData"
   ]
  },
  {
   "cell_type": "code",
   "execution_count": 13,
   "id": "71dd85bc",
   "metadata": {},
   "outputs": [],
   "source": [
    "user = createList(df, pram= 'user')\n",
    "item = createList(df, pram= 'item')"
   ]
  },
  {
   "cell_type": "code",
   "execution_count": 14,
   "id": "55281d0c",
   "metadata": {},
   "outputs": [
    {
     "name": "stdout",
     "output_type": "stream",
     "text": [
      "Number of users: 610, Number of Books: 9724, Min rating: 0.5, Max rating: 5.0\n"
     ]
    }
   ],
   "source": [
    "num_users, num_items = formatData(df, user,item)"
   ]
  },
  {
   "cell_type": "code",
   "execution_count": 15,
   "id": "c4b79c65",
   "metadata": {},
   "outputs": [
    {
     "data": {
      "text/html": [
       "<div>\n",
       "<style scoped>\n",
       "    .dataframe tbody tr th:only-of-type {\n",
       "        vertical-align: middle;\n",
       "    }\n",
       "\n",
       "    .dataframe tbody tr th {\n",
       "        vertical-align: top;\n",
       "    }\n",
       "\n",
       "    .dataframe thead th {\n",
       "        text-align: right;\n",
       "    }\n",
       "</style>\n",
       "<table border=\"1\" class=\"dataframe\">\n",
       "  <thead>\n",
       "    <tr style=\"text-align: right;\">\n",
       "      <th></th>\n",
       "      <th>userId</th>\n",
       "      <th>itemId</th>\n",
       "      <th>rating</th>\n",
       "      <th>user</th>\n",
       "      <th>item</th>\n",
       "    </tr>\n",
       "  </thead>\n",
       "  <tbody>\n",
       "    <tr>\n",
       "      <th>0</th>\n",
       "      <td>1</td>\n",
       "      <td>1</td>\n",
       "      <td>4.0</td>\n",
       "      <td>0</td>\n",
       "      <td>0</td>\n",
       "    </tr>\n",
       "    <tr>\n",
       "      <th>1</th>\n",
       "      <td>1</td>\n",
       "      <td>3</td>\n",
       "      <td>4.0</td>\n",
       "      <td>0</td>\n",
       "      <td>1</td>\n",
       "    </tr>\n",
       "    <tr>\n",
       "      <th>2</th>\n",
       "      <td>1</td>\n",
       "      <td>6</td>\n",
       "      <td>4.0</td>\n",
       "      <td>0</td>\n",
       "      <td>2</td>\n",
       "    </tr>\n",
       "    <tr>\n",
       "      <th>3</th>\n",
       "      <td>1</td>\n",
       "      <td>47</td>\n",
       "      <td>5.0</td>\n",
       "      <td>0</td>\n",
       "      <td>3</td>\n",
       "    </tr>\n",
       "    <tr>\n",
       "      <th>4</th>\n",
       "      <td>1</td>\n",
       "      <td>50</td>\n",
       "      <td>5.0</td>\n",
       "      <td>0</td>\n",
       "      <td>4</td>\n",
       "    </tr>\n",
       "    <tr>\n",
       "      <th>...</th>\n",
       "      <td>...</td>\n",
       "      <td>...</td>\n",
       "      <td>...</td>\n",
       "      <td>...</td>\n",
       "      <td>...</td>\n",
       "    </tr>\n",
       "    <tr>\n",
       "      <th>100831</th>\n",
       "      <td>610</td>\n",
       "      <td>166534</td>\n",
       "      <td>4.0</td>\n",
       "      <td>609</td>\n",
       "      <td>3120</td>\n",
       "    </tr>\n",
       "    <tr>\n",
       "      <th>100832</th>\n",
       "      <td>610</td>\n",
       "      <td>168248</td>\n",
       "      <td>5.0</td>\n",
       "      <td>609</td>\n",
       "      <td>2035</td>\n",
       "    </tr>\n",
       "    <tr>\n",
       "      <th>100833</th>\n",
       "      <td>610</td>\n",
       "      <td>168250</td>\n",
       "      <td>5.0</td>\n",
       "      <td>609</td>\n",
       "      <td>3121</td>\n",
       "    </tr>\n",
       "    <tr>\n",
       "      <th>100834</th>\n",
       "      <td>610</td>\n",
       "      <td>168252</td>\n",
       "      <td>5.0</td>\n",
       "      <td>609</td>\n",
       "      <td>1392</td>\n",
       "    </tr>\n",
       "    <tr>\n",
       "      <th>100835</th>\n",
       "      <td>610</td>\n",
       "      <td>170875</td>\n",
       "      <td>3.0</td>\n",
       "      <td>609</td>\n",
       "      <td>2873</td>\n",
       "    </tr>\n",
       "  </tbody>\n",
       "</table>\n",
       "<p>100836 rows × 5 columns</p>\n",
       "</div>"
      ],
      "text/plain": [
       "        userId  itemId  rating  user  item\n",
       "0            1       1     4.0     0     0\n",
       "1            1       3     4.0     0     1\n",
       "2            1       6     4.0     0     2\n",
       "3            1      47     5.0     0     3\n",
       "4            1      50     5.0     0     4\n",
       "...        ...     ...     ...   ...   ...\n",
       "100831     610  166534     4.0   609  3120\n",
       "100832     610  168248     5.0   609  2035\n",
       "100833     610  168250     5.0   609  3121\n",
       "100834     610  168252     5.0   609  1392\n",
       "100835     610  170875     3.0   609  2873\n",
       "\n",
       "[100836 rows x 5 columns]"
      ]
     },
     "execution_count": 15,
     "metadata": {},
     "output_type": "execute_result"
    }
   ],
   "source": [
    "df"
   ]
  },
  {
   "cell_type": "markdown",
   "id": "58235a65",
   "metadata": {},
   "source": [
    "# Prepare training and validation data"
   ]
  },
  {
   "cell_type": "code",
   "execution_count": 16,
   "id": "3932e0a3",
   "metadata": {},
   "outputs": [],
   "source": [
    "from prepdata import prepData"
   ]
  },
  {
   "cell_type": "code",
   "execution_count": 17,
   "id": "f8162b4b",
   "metadata": {},
   "outputs": [],
   "source": [
    "x_train, x_val, y_train, y_val = prepData(df)"
   ]
  },
  {
   "cell_type": "markdown",
   "id": "39f5d634",
   "metadata": {},
   "source": [
    "# Create the model"
   ]
  },
  {
   "cell_type": "markdown",
   "id": "74f6853d",
   "metadata": {},
   "source": [
    "We embed both users and movies in to 50-dimensional vectors.\n",
    "\n",
    "The model computes a match score between user and movie embeddings via a dot product, and adds a per-movie and per-user bias. The match score is scaled to the [0, 1] interval via a sigmoid (since our ratings are normalized to this range)."
   ]
  },
  {
   "cell_type": "code",
   "execution_count": 37,
   "id": "60401c7d",
   "metadata": {},
   "outputs": [
    {
     "name": "stdout",
     "output_type": "stream",
     "text": [
      "Metal device set to: Apple M1 Pro\n"
     ]
    },
    {
     "name": "stderr",
     "output_type": "stream",
     "text": [
      "2022-05-06 02:01:35.927133: I tensorflow/core/common_runtime/pluggable_device/pluggable_device_factory.cc:305] Could not identify NUMA node of platform GPU ID 0, defaulting to 0. Your kernel may not have been built with NUMA support.\n",
      "2022-05-06 02:01:35.927358: I tensorflow/core/common_runtime/pluggable_device/pluggable_device_factory.cc:271] Created TensorFlow device (/job:localhost/replica:0/task:0/device:GPU:0 with 0 MB memory) -> physical PluggableDevice (device: 0, name: METAL, pci bus id: <undefined>)\n",
      "/Users/citlallylopez/miniforge3/envs/mbp/lib/python3.8/site-packages/keras/optimizer_v2/adam.py:105: UserWarning: The `lr` argument is deprecated, use `learning_rate` instead.\n",
      "  super(Adam, self).__init__(name, **kwargs)\n"
     ]
    }
   ],
   "source": [
    "EMBEDDING_SIZE = 50\n",
    "\n",
    "\n",
    "class RecommenderNet(keras.Model):\n",
    "    def __init__(self, num_users, num_movies, embedding_size, **kwargs):\n",
    "        super(RecommenderNet, self).__init__(**kwargs)\n",
    "        self.num_users = num_users\n",
    "        self.num_movies = num_movies\n",
    "        self.embedding_size = embedding_size\n",
    "        self.user_embedding = layers.Embedding(\n",
    "            num_users,\n",
    "            embedding_size,\n",
    "            embeddings_initializer=\"he_normal\",\n",
    "            embeddings_regularizer=keras.regularizers.l2(1e-6),\n",
    "        )\n",
    "        self.user_bias = layers.Embedding(num_users, 1)\n",
    "        self.movie_embedding = layers.Embedding(\n",
    "            num_movies,\n",
    "            embedding_size,\n",
    "            embeddings_initializer=\"he_normal\",\n",
    "            embeddings_regularizer=keras.regularizers.l2(1e-6),\n",
    "        )\n",
    "        self.movie_bias = layers.Embedding(num_movies, 1)\n",
    "\n",
    "    def call(self, inputs):\n",
    "        user_vector = self.user_embedding(inputs[:, 0])\n",
    "        user_bias = self.user_bias(inputs[:, 0])\n",
    "        movie_vector = self.movie_embedding(inputs[:, 1])\n",
    "        movie_bias = self.movie_bias(inputs[:, 1])\n",
    "        dot_user_movie = tf.tensordot(user_vector, movie_vector, 2)\n",
    "        # Add all the components (including bias)\n",
    "        x = dot_user_movie + user_bias + movie_bias\n",
    "        # The sigmoid activation forces the rating to between 0 and 1\n",
    "        return tf.nn.sigmoid(x)\n",
    "\n",
    "\n",
    "model = RecommenderNet(num_users, num_items, EMBEDDING_SIZE)\n",
    "model.compile(\n",
    "    loss=tf.keras.losses.BinaryCrossentropy(), optimizer=keras.optimizers.Adam(lr=0.001)\n",
    ")\n"
   ]
  },
  {
   "cell_type": "markdown",
   "id": "2e472a96",
   "metadata": {},
   "source": [
    "# Train the model based on the data split"
   ]
  },
  {
   "cell_type": "code",
   "execution_count": 13,
   "id": "e0e815f6",
   "metadata": {},
   "outputs": [],
   "source": [
    "#saving checkoints\n",
    "from keras.callbacks import ModelCheckpoint\n",
    "\n",
    "#issue: unable to use due to subclassed model\n",
    "checkpoint = ModelCheckpoint('movies_logs/model2{epoch:02d}.h5', monitor='loss', verbose=1,\n",
    "     save_best_only=True, mode='auto', save_freq='epoch', save_weights_only=True)"
   ]
  },
  {
   "cell_type": "code",
   "execution_count": 14,
   "id": "2f0c4b3c",
   "metadata": {
    "scrolled": true
   },
   "outputs": [
    {
     "name": "stdout",
     "output_type": "stream",
     "text": [
      "Epoch 1/10\n",
      "1414/1418 [============================>.] - ETA: 0s - loss: 0.6068\n",
      "Epoch 1: loss improved from inf to 0.60675, saving model to movies_logs/model201.h5\n",
      "1418/1418 [==============================] - 17s 12ms/step - loss: 0.6068 - val_loss: 0.6145\n",
      "Epoch 2/10\n",
      "1417/1418 [============================>.] - ETA: 0s - loss: 0.6063\n",
      "Epoch 2: loss improved from 0.60675 to 0.60633, saving model to movies_logs/model202.h5\n",
      "1418/1418 [==============================] - 16s 11ms/step - loss: 0.6063 - val_loss: 0.6118\n",
      "Epoch 3/10\n",
      "1415/1418 [============================>.] - ETA: 0s - loss: 0.6061\n",
      "Epoch 3: loss improved from 0.60633 to 0.60614, saving model to movies_logs/model203.h5\n",
      "1418/1418 [==============================] - 16s 11ms/step - loss: 0.6061 - val_loss: 0.6119\n",
      "Epoch 4/10\n",
      "1414/1418 [============================>.] - ETA: 0s - loss: 0.6053\n",
      "Epoch 4: loss improved from 0.60614 to 0.60533, saving model to movies_logs/model204.h5\n",
      "1418/1418 [==============================] - 16s 12ms/step - loss: 0.6053 - val_loss: 0.6116\n",
      "Epoch 5/10\n",
      "1416/1418 [============================>.] - ETA: 0s - loss: 0.6052\n",
      "Epoch 5: loss improved from 0.60533 to 0.60520, saving model to movies_logs/model205.h5\n",
      "1418/1418 [==============================] - 16s 12ms/step - loss: 0.6052 - val_loss: 0.6134\n",
      "Epoch 6/10\n",
      "1417/1418 [============================>.] - ETA: 0s - loss: 0.6046\n",
      "Epoch 6: loss improved from 0.60520 to 0.60455, saving model to movies_logs/model206.h5\n",
      "1418/1418 [==============================] - 16s 12ms/step - loss: 0.6046 - val_loss: 0.6145\n",
      "Epoch 7/10\n",
      "1415/1418 [============================>.] - ETA: 0s - loss: 0.6045\n",
      "Epoch 7: loss improved from 0.60455 to 0.60448, saving model to movies_logs/model207.h5\n",
      "1418/1418 [==============================] - 16s 12ms/step - loss: 0.6045 - val_loss: 0.6123\n",
      "Epoch 8/10\n",
      "1416/1418 [============================>.] - ETA: 0s - loss: 0.6058\n",
      "Epoch 8: loss did not improve from 0.60448\n",
      "1418/1418 [==============================] - 17s 12ms/step - loss: 0.6059 - val_loss: 0.6133\n",
      "Epoch 9/10\n",
      "1416/1418 [============================>.] - ETA: 0s - loss: 0.6049\n",
      "Epoch 9: loss did not improve from 0.60448\n",
      "1418/1418 [==============================] - 16s 12ms/step - loss: 0.6049 - val_loss: 0.6131\n",
      "Epoch 10/10\n",
      "1417/1418 [============================>.] - ETA: 0s - loss: 0.6051\n",
      "Epoch 10: loss did not improve from 0.60448\n",
      "1418/1418 [==============================] - 16s 11ms/step - loss: 0.6051 - val_loss: 0.6130\n"
     ]
    }
   ],
   "source": [
    "history = model.fit(\n",
    "    x=x_train,\n",
    "    y=y_train,\n",
    "    batch_size=64,\n",
    "    epochs=10,\n",
    "    verbose=1,\n",
    "    validation_data=(x_val, y_val),\n",
    "    callbacks=[checkpoint]\n",
    ")\n"
   ]
  },
  {
   "cell_type": "markdown",
   "id": "8542db41",
   "metadata": {},
   "source": [
    "### Load and save history"
   ]
  },
  {
   "cell_type": "code",
   "execution_count": 15,
   "id": "8107ff53",
   "metadata": {},
   "outputs": [
    {
     "name": "stdout",
     "output_type": "stream",
     "text": [
      "INFO:tensorflow:Assets written to: ram://18e122f8-a00d-452c-83b8-f5a70c120088/assets\n"
     ]
    }
   ],
   "source": [
    "import pickle\n",
    "# Save train  loss history - changes previous history if trained before\n",
    "pickle.dump(history, open('movies_history_2.pkl', 'wb'))"
   ]
  },
  {
   "cell_type": "code",
   "execution_count": 40,
   "id": "291859b5",
   "metadata": {},
   "outputs": [],
   "source": [
    "#if training before, input old history\n",
    "with open('movies_history_2.pkl', 'rb') as f:\n",
    "    h = pickle.load(f)"
   ]
  },
  {
   "cell_type": "code",
   "execution_count": 41,
   "id": "ade8986c",
   "metadata": {
    "scrolled": true
   },
   "outputs": [
    {
     "data": {
      "text/plain": [
       "{'loss': [0.6067537069320679,\n",
       "  0.6063300967216492,\n",
       "  0.6061434745788574,\n",
       "  0.6053253412246704,\n",
       "  0.6051957607269287,\n",
       "  0.6045538187026978,\n",
       "  0.6044831871986389,\n",
       "  0.6058639287948608,\n",
       "  0.6048643589019775,\n",
       "  0.6050958037376404],\n",
       " 'val_loss': [0.6145461201667786,\n",
       "  0.6117705702781677,\n",
       "  0.6119254231452942,\n",
       "  0.6115807890892029,\n",
       "  0.613374650478363,\n",
       "  0.614518940448761,\n",
       "  0.6122536659240723,\n",
       "  0.6133273243904114,\n",
       "  0.613095223903656,\n",
       "  0.6129983067512512]}"
      ]
     },
     "execution_count": 41,
     "metadata": {},
     "output_type": "execute_result"
    }
   ],
   "source": [
    "h.history"
   ]
  },
  {
   "cell_type": "markdown",
   "id": "ca7ef744",
   "metadata": {},
   "source": [
    "# Plot training and validation loss"
   ]
  },
  {
   "cell_type": "code",
   "execution_count": 42,
   "id": "5ddc13ac",
   "metadata": {
    "scrolled": true
   },
   "outputs": [
    {
     "data": {
      "image/png": "[encoded data removed]",
      "text/plain": [
       "<Figure size 432x288 with 1 Axes>"
      ]
     },
     "metadata": {
      "needs_background": "light"
     },
     "output_type": "display_data"
    }
   ],
   "source": [
    "#third attempt - 10 epochs found in 'movies_history_2.pkl'\n",
    "plt.plot(h.history[\"loss\"])\n",
    "plt.plot(h.history[\"val_loss\"])\n",
    "plt.title(\"model loss for 10 epochs\")\n",
    "plt.ylabel(\"loss\")\n",
    "plt.xlabel(\"epoch\")\n",
    "plt.legend([\"train\", \"test\"], loc=\"upper left\")\n",
    "plt.show()\n"
   ]
  },
  {
   "cell_type": "code",
   "execution_count": 43,
   "id": "0a5ba6cd",
   "metadata": {},
   "outputs": [],
   "source": [
    "#if training before, input old history\n",
    "with open('movies_history_1.pkl', 'rb') as f:\n",
    "    h = pickle.load(f)"
   ]
  },
  {
   "cell_type": "code",
   "execution_count": 44,
   "id": "74e784d6",
   "metadata": {
    "scrolled": true
   },
   "outputs": [
    {
     "data": {
      "image/png": "[encoded data removed]",
      "text/plain": [
       "<Figure size 432x288 with 1 Axes>"
      ]
     },
     "metadata": {
      "needs_background": "light"
     },
     "output_type": "display_data"
    }
   ],
   "source": [
    "#second attempt - 5 epochs found in movies_history_1.pkl'\n",
    "plt.plot(h.history[\"loss\"])\n",
    "plt.plot(h.history[\"val_loss\"])\n",
    "plt.title(\"model loss for 5 epochs\")\n",
    "plt.ylabel(\"loss\")\n",
    "plt.xlabel(\"epoch\")\n",
    "plt.legend([\"train\", \"test\"], loc=\"upper left\")\n",
    "plt.show()\n"
   ]
  },
  {
   "cell_type": "code",
   "execution_count": 11,
   "id": "96e2fab0",
   "metadata": {
    "scrolled": true
   },
   "outputs": [
    {
     "data": {
      "image/png": "[encoded data removed]",
      "text/plain": [
       "<Figure size 432x288 with 1 Axes>"
      ]
     },
     "metadata": {
      "needs_background": "light"
     },
     "output_type": "display_data"
    }
   ],
   "source": [
    "#first attempt - 5 epochs found in 'movies_history.pkl'\n",
    "plt.plot(history.history[\"loss\"])\n",
    "plt.plot(history.history[\"val_loss\"])\n",
    "plt.title(\"model loss\")\n",
    "plt.ylabel(\"loss\")\n",
    "plt.xlabel(\"epoch\")\n",
    "plt.legend([\"train\", \"test\"], loc=\"upper left\")\n",
    "plt.show()\n"
   ]
  },
  {
   "cell_type": "markdown",
   "id": "ea72dcb6",
   "metadata": {},
   "source": [
    "# Show top 10 movie recommendations to a user"
   ]
  },
  {
   "cell_type": "code",
   "execution_count": 18,
   "id": "829424dc",
   "metadata": {},
   "outputs": [],
   "source": [
    "# error with function import\n",
    "from makeRec import showRecommendation"
   ]
  },
  {
   "cell_type": "code",
   "execution_count": 26,
   "id": "fe4c1703",
   "metadata": {},
   "outputs": [
    {
     "data": {
      "text/html": [
       "<div>\n",
       "<style scoped>\n",
       "    .dataframe tbody tr th:only-of-type {\n",
       "        vertical-align: middle;\n",
       "    }\n",
       "\n",
       "    .dataframe tbody tr th {\n",
       "        vertical-align: top;\n",
       "    }\n",
       "\n",
       "    .dataframe thead th {\n",
       "        text-align: right;\n",
       "    }\n",
       "</style>\n",
       "<table border=\"1\" class=\"dataframe\">\n",
       "  <thead>\n",
       "    <tr style=\"text-align: right;\">\n",
       "      <th></th>\n",
       "      <th>userId</th>\n",
       "      <th>itemId</th>\n",
       "      <th>rating</th>\n",
       "      <th>user</th>\n",
       "      <th>item</th>\n",
       "    </tr>\n",
       "  </thead>\n",
       "  <tbody>\n",
       "    <tr>\n",
       "      <th>0</th>\n",
       "      <td>1</td>\n",
       "      <td>1</td>\n",
       "      <td>4.0</td>\n",
       "      <td>0</td>\n",
       "      <td>0</td>\n",
       "    </tr>\n",
       "    <tr>\n",
       "      <th>1</th>\n",
       "      <td>1</td>\n",
       "      <td>3</td>\n",
       "      <td>4.0</td>\n",
       "      <td>0</td>\n",
       "      <td>1</td>\n",
       "    </tr>\n",
       "    <tr>\n",
       "      <th>2</th>\n",
       "      <td>1</td>\n",
       "      <td>6</td>\n",
       "      <td>4.0</td>\n",
       "      <td>0</td>\n",
       "      <td>2</td>\n",
       "    </tr>\n",
       "    <tr>\n",
       "      <th>3</th>\n",
       "      <td>1</td>\n",
       "      <td>47</td>\n",
       "      <td>5.0</td>\n",
       "      <td>0</td>\n",
       "      <td>3</td>\n",
       "    </tr>\n",
       "    <tr>\n",
       "      <th>4</th>\n",
       "      <td>1</td>\n",
       "      <td>50</td>\n",
       "      <td>5.0</td>\n",
       "      <td>0</td>\n",
       "      <td>4</td>\n",
       "    </tr>\n",
       "    <tr>\n",
       "      <th>...</th>\n",
       "      <td>...</td>\n",
       "      <td>...</td>\n",
       "      <td>...</td>\n",
       "      <td>...</td>\n",
       "      <td>...</td>\n",
       "    </tr>\n",
       "    <tr>\n",
       "      <th>100831</th>\n",
       "      <td>610</td>\n",
       "      <td>166534</td>\n",
       "      <td>4.0</td>\n",
       "      <td>609</td>\n",
       "      <td>3120</td>\n",
       "    </tr>\n",
       "    <tr>\n",
       "      <th>100832</th>\n",
       "      <td>610</td>\n",
       "      <td>168248</td>\n",
       "      <td>5.0</td>\n",
       "      <td>609</td>\n",
       "      <td>2035</td>\n",
       "    </tr>\n",
       "    <tr>\n",
       "      <th>100833</th>\n",
       "      <td>610</td>\n",
       "      <td>168250</td>\n",
       "      <td>5.0</td>\n",
       "      <td>609</td>\n",
       "      <td>3121</td>\n",
       "    </tr>\n",
       "    <tr>\n",
       "      <th>100834</th>\n",
       "      <td>610</td>\n",
       "      <td>168252</td>\n",
       "      <td>5.0</td>\n",
       "      <td>609</td>\n",
       "      <td>1392</td>\n",
       "    </tr>\n",
       "    <tr>\n",
       "      <th>100835</th>\n",
       "      <td>610</td>\n",
       "      <td>170875</td>\n",
       "      <td>3.0</td>\n",
       "      <td>609</td>\n",
       "      <td>2873</td>\n",
       "    </tr>\n",
       "  </tbody>\n",
       "</table>\n",
       "<p>100836 rows × 5 columns</p>\n",
       "</div>"
      ],
      "text/plain": [
       "        userId  itemId  rating  user  item\n",
       "0            1       1     4.0     0     0\n",
       "1            1       3     4.0     0     1\n",
       "2            1       6     4.0     0     2\n",
       "3            1      47     5.0     0     3\n",
       "4            1      50     5.0     0     4\n",
       "...        ...     ...     ...   ...   ...\n",
       "100831     610  166534     4.0   609  3120\n",
       "100832     610  168248     5.0   609  2035\n",
       "100833     610  168250     5.0   609  3121\n",
       "100834     610  168252     5.0   609  1392\n",
       "100835     610  170875     3.0   609  2873\n",
       "\n",
       "[100836 rows x 5 columns]"
      ]
     },
     "execution_count": 26,
     "metadata": {},
     "output_type": "execute_result"
    }
   ],
   "source": [
    "df"
   ]
  },
  {
   "cell_type": "code",
   "execution_count": 31,
   "id": "78f9dfe4",
   "metadata": {},
   "outputs": [],
   "source": [
    "movies_df.rename(columns = {'movieId':'itemId'}, inplace = True)"
   ]
  },
  {
   "cell_type": "code",
   "execution_count": 32,
   "id": "2defbd88",
   "metadata": {
    "scrolled": false
   },
   "outputs": [
    {
     "data": {
      "text/html": [
       "<div>\n",
       "<style scoped>\n",
       "    .dataframe tbody tr th:only-of-type {\n",
       "        vertical-align: middle;\n",
       "    }\n",
       "\n",
       "    .dataframe tbody tr th {\n",
       "        vertical-align: top;\n",
       "    }\n",
       "\n",
       "    .dataframe thead th {\n",
       "        text-align: right;\n",
       "    }\n",
       "</style>\n",
       "<table border=\"1\" class=\"dataframe\">\n",
       "  <thead>\n",
       "    <tr style=\"text-align: right;\">\n",
       "      <th></th>\n",
       "      <th>itemId</th>\n",
       "      <th>title</th>\n",
       "      <th>genres</th>\n",
       "    </tr>\n",
       "  </thead>\n",
       "  <tbody>\n",
       "    <tr>\n",
       "      <th>0</th>\n",
       "      <td>1</td>\n",
       "      <td>Toy Story (1995)</td>\n",
       "      <td>Adventure|Animation|Children|Comedy|Fantasy</td>\n",
       "    </tr>\n",
       "    <tr>\n",
       "      <th>1</th>\n",
       "      <td>2</td>\n",
       "      <td>Jumanji (1995)</td>\n",
       "      <td>Adventure|Children|Fantasy</td>\n",
       "    </tr>\n",
       "    <tr>\n",
       "      <th>2</th>\n",
       "      <td>3</td>\n",
       "      <td>Grumpier Old Men (1995)</td>\n",
       "      <td>Comedy|Romance</td>\n",
       "    </tr>\n",
       "    <tr>\n",
       "      <th>3</th>\n",
       "      <td>4</td>\n",
       "      <td>Waiting to Exhale (1995)</td>\n",
       "      <td>Comedy|Drama|Romance</td>\n",
       "    </tr>\n",
       "    <tr>\n",
       "      <th>4</th>\n",
       "      <td>5</td>\n",
       "      <td>Father of the Bride Part II (1995)</td>\n",
       "      <td>Comedy</td>\n",
       "    </tr>\n",
       "    <tr>\n",
       "      <th>...</th>\n",
       "      <td>...</td>\n",
       "      <td>...</td>\n",
       "      <td>...</td>\n",
       "    </tr>\n",
       "    <tr>\n",
       "      <th>9737</th>\n",
       "      <td>193581</td>\n",
       "      <td>Black Butler: Book of the Atlantic (2017)</td>\n",
       "      <td>Action|Animation|Comedy|Fantasy</td>\n",
       "    </tr>\n",
       "    <tr>\n",
       "      <th>9738</th>\n",
       "      <td>193583</td>\n",
       "      <td>No Game No Life: Zero (2017)</td>\n",
       "      <td>Animation|Comedy|Fantasy</td>\n",
       "    </tr>\n",
       "    <tr>\n",
       "      <th>9739</th>\n",
       "      <td>193585</td>\n",
       "      <td>Flint (2017)</td>\n",
       "      <td>Drama</td>\n",
       "    </tr>\n",
       "    <tr>\n",
       "      <th>9740</th>\n",
       "      <td>193587</td>\n",
       "      <td>Bungo Stray Dogs: Dead Apple (2018)</td>\n",
       "      <td>Action|Animation</td>\n",
       "    </tr>\n",
       "    <tr>\n",
       "      <th>9741</th>\n",
       "      <td>193609</td>\n",
       "      <td>Andrew Dice Clay: Dice Rules (1991)</td>\n",
       "      <td>Comedy</td>\n",
       "    </tr>\n",
       "  </tbody>\n",
       "</table>\n",
       "<p>9742 rows × 3 columns</p>\n",
       "</div>"
      ],
      "text/plain": [
       "      itemId                                      title  \\\n",
       "0          1                           Toy Story (1995)   \n",
       "1          2                             Jumanji (1995)   \n",
       "2          3                    Grumpier Old Men (1995)   \n",
       "3          4                   Waiting to Exhale (1995)   \n",
       "4          5         Father of the Bride Part II (1995)   \n",
       "...      ...                                        ...   \n",
       "9737  193581  Black Butler: Book of the Atlantic (2017)   \n",
       "9738  193583               No Game No Life: Zero (2017)   \n",
       "9739  193585                               Flint (2017)   \n",
       "9740  193587        Bungo Stray Dogs: Dead Apple (2018)   \n",
       "9741  193609        Andrew Dice Clay: Dice Rules (1991)   \n",
       "\n",
       "                                           genres  \n",
       "0     Adventure|Animation|Children|Comedy|Fantasy  \n",
       "1                      Adventure|Children|Fantasy  \n",
       "2                                  Comedy|Romance  \n",
       "3                            Comedy|Drama|Romance  \n",
       "4                                          Comedy  \n",
       "...                                           ...  \n",
       "9737              Action|Animation|Comedy|Fantasy  \n",
       "9738                     Animation|Comedy|Fantasy  \n",
       "9739                                        Drama  \n",
       "9740                             Action|Animation  \n",
       "9741                                       Comedy  \n",
       "\n",
       "[9742 rows x 3 columns]"
      ]
     },
     "execution_count": 32,
     "metadata": {},
     "output_type": "execute_result"
    }
   ],
   "source": [
    "movies_df.rename({\"itemId\":\"movieId\" })"
   ]
  },
  {
   "cell_type": "markdown",
   "id": "242cfa11",
   "metadata": {},
   "source": [
    "1st code:"
   ]
  },
  {
   "cell_type": "code",
   "execution_count": 33,
   "id": "03980d18",
   "metadata": {},
   "outputs": [],
   "source": [
    "def showRecommendation(dataFrame,items_dataFrame, model):\n",
    "    uid = dataFrame.userId.sample(1).iloc[0]\n",
    "    items_by_user = dataFrame[dataFrame.userId == uid]\n",
    "    items_not_watched = items_dataFrame[\n",
    "        ~items_dataFrame[\"itemId\"].isin(items_by_user.itemId.values)\n",
    "    ][\"itemId\"]\n",
    "    items_not_watched = list(\n",
    "        set(items_not_watched).intersection(set(encodingMaps(dataFrame,\"item\").keys()))\n",
    "    )\n",
    "    items_not_watched = [[encodingMaps(dataFrame, \"item\").get(x)] for x in items_not_watched]\n",
    "    user_encoder = encodingMaps(dataFrame, \"user\").get(uid)\n",
    "    user_item_array = np.hstack(\n",
    "        ([[user_encoder]] * len(items_not_watched), items_not_watched)\n",
    "    )\n",
    "    ratings = model.predict(user_item_array).flatten()\n",
    "    top_ratings_indices = ratings.argsort()[-10:][::-1]\n",
    "    recommended_item_ids = [\n",
    "        selfEncoding(\"item\").get(items_not_watched[x][0]) for x in top_ratings_indices\n",
    "    ]\n",
    "    \n",
    "    print(\"Showing recommendations for user: {}\".format(uid))\n",
    "    print(\"====\" * 9)\n",
    "    print(\"Items with high ratings from user\")\n",
    "    print(\"----\" * 8)\n",
    "    top_item_user = (\n",
    "        items_by_user.sort_values(by=\"rating\", ascending=False)\n",
    "        .head(5)\n",
    "        .book_id.values\n",
    "    )\n",
    "    items_df_rows = items_dataFrame[items_dataFrame[\"itemId\"].isin(top_item_user)]\n",
    "    \n",
    "    \n",
    "    if list_of_items==\"movies\":\n",
    "        for row in movie_df_rows.itertuples():\n",
    "            print(row.title, \":\", row.genres)\n",
    "\n",
    "        print(\"----\" * 8)\n",
    "        print(\"Top 10 movie recommendations\")\n",
    "        print(\"----\" * 8)\n",
    "        recommended_movies = movie_df[movie_df[\"itemId\"].isin(recommended_movie_ids)]\n",
    "        for row in recommended_movies.itertuples():\n",
    "            print(row.title, \":\", row.genres)\n",
    "    \n",
    "    \n",
    "    elif list_of_items==\"books\":\n",
    "        for row in items_df_rows.itertuples():\n",
    "            print(row.original_title, \"by\", row.authors)\n",
    "\n",
    "        print(\"----\" * 8)\n",
    "        print(\"Top 10 book recommendations\")\n",
    "        print(\"----\" * 8)\n",
    "        recommended_items = items_dataFrame[items_dataFrame[\"book_id\"].isin(recommended_item_ids)]\n",
    "        for row in recommended_items.itertuples():\n",
    "            print(row.original_title, \"by\", row.authors)\n",
    "    \n",
    "    \n",
    "    else:\n",
    "        for row in items_df_rows.itertuples():\n",
    "            print(row.productId, \"with rating of \", row.rating)\n",
    "\n",
    "        print(\"----\" * 8)\n",
    "        print(\"Top 10 product recommendations\")\n",
    "        print(\"----\" * 8)\n",
    "        recommended_items = items_df[items_df[\"productId\"].isin(recommended_item_ids)]\n",
    "        for row in recommended_items.itertuples():\n",
    "            print(row.productId)\n",
    "        "
   ]
  },
  {
   "cell_type": "code",
   "execution_count": 34,
   "id": "249f3d30",
   "metadata": {},
   "outputs": [
    {
     "ename": "NameError",
     "evalue": "name 'model' is not defined",
     "output_type": "error",
     "traceback": [
      "\u001b[0;31m---------------------------------------------------------------------------\u001b[0m",
      "\u001b[0;31mNameError\u001b[0m                                 Traceback (most recent call last)",
      "Input \u001b[0;32mIn [34]\u001b[0m, in \u001b[0;36m<cell line: 1>\u001b[0;34m()\u001b[0m\n\u001b[0;32m----> 1\u001b[0m \u001b[43mshowRecommendation\u001b[49m\u001b[43m(\u001b[49m\u001b[43mdf\u001b[49m\u001b[43m,\u001b[49m\u001b[43m \u001b[49m\u001b[43mmovies_df\u001b[49m\u001b[43m)\u001b[49m\n",
      "Input \u001b[0;32mIn [33]\u001b[0m, in \u001b[0;36mshowRecommendation\u001b[0;34m(dataFrame, items_dataFrame)\u001b[0m\n\u001b[1;32m     11\u001b[0m user_encoder \u001b[38;5;241m=\u001b[39m encodingMaps(dataFrame, \u001b[38;5;124m\"\u001b[39m\u001b[38;5;124muser\u001b[39m\u001b[38;5;124m\"\u001b[39m)\u001b[38;5;241m.\u001b[39mget(uid)\n\u001b[1;32m     12\u001b[0m user_item_array \u001b[38;5;241m=\u001b[39m np\u001b[38;5;241m.\u001b[39mhstack(\n\u001b[1;32m     13\u001b[0m     ([[user_encoder]] \u001b[38;5;241m*\u001b[39m \u001b[38;5;28mlen\u001b[39m(items_not_watched), items_not_watched)\n\u001b[1;32m     14\u001b[0m )\n\u001b[0;32m---> 15\u001b[0m ratings \u001b[38;5;241m=\u001b[39m \u001b[43mmodel\u001b[49m\u001b[38;5;241m.\u001b[39mpredict(user_item_array)\u001b[38;5;241m.\u001b[39mflatten()\n\u001b[1;32m     16\u001b[0m top_ratings_indices \u001b[38;5;241m=\u001b[39m ratings\u001b[38;5;241m.\u001b[39margsort()[\u001b[38;5;241m-\u001b[39m\u001b[38;5;241m10\u001b[39m:][::\u001b[38;5;241m-\u001b[39m\u001b[38;5;241m1\u001b[39m]\n\u001b[1;32m     17\u001b[0m recommended_item_ids \u001b[38;5;241m=\u001b[39m [\n\u001b[1;32m     18\u001b[0m     selfEncoding(\u001b[38;5;124m\"\u001b[39m\u001b[38;5;124mitem\u001b[39m\u001b[38;5;124m\"\u001b[39m)\u001b[38;5;241m.\u001b[39mget(items_not_watched[x][\u001b[38;5;241m0\u001b[39m]) \u001b[38;5;28;01mfor\u001b[39;00m x \u001b[38;5;129;01min\u001b[39;00m top_ratings_indices\n\u001b[1;32m     19\u001b[0m ]\n",
      "\u001b[0;31mNameError\u001b[0m: name 'model' is not defined"
     ]
    }
   ],
   "source": [
    "showRecommendation(df, movies_df, model, list_of_items)"
   ]
  },
  {
   "cell_type": "markdown",
   "id": "73dfbbf9",
   "metadata": {},
   "source": [
    "From our first attempt, when the model was trained within the notebook, we were able to run a code that could predict 10 movie recommendations and shows reccomndations (2nd code below).\n",
    "However, the code cells were used before modifiying datasets and defining a function that would take loaded model as input (first code below).\n",
    "\n",
    "Error currently found due to saving weights issue when loading data. Working on revising function under makeRec module"
   ]
  },
  {
   "cell_type": "markdown",
   "id": "826ba315",
   "metadata": {},
   "source": [
    "2nd code:"
   ]
  },
  {
   "cell_type": "code",
   "execution_count": 26,
   "id": "55e75665",
   "metadata": {},
   "outputs": [],
   "source": [
    "#movie_df = pd.read_csv(movielens_dir / \"movies.csv\")\n",
    "\n",
    "# Let us get a user and see the top recommendations.\n",
    "user_id = df.userId.sample(1).iloc[0]\n",
    "movies_watched_by_user = df[df.userId == user_id]\n",
    "movies_not_watched = movie_df[\n",
    "    ~movie_df[\"movieId\"].isin(movies_watched_by_user.movieId.values)\n",
    "][\"movieId\"]\n",
    "movies_not_watched = list(\n",
    "    set(movies_not_watched).intersection(set(movie2movie_encoded.keys()))\n",
    ")\n",
    "movies_not_watched = [[movie2movie_encoded.get(x)] for x in movies_not_watched]\n",
    "user_encoder = user2user_encoded.get(user_id)\n",
    "user_movie_array = np.hstack(\n",
    "    ([[user_encoder]] * len(movies_not_watched), movies_not_watched)\n",
    ")\n",
    "ratings = model.predict(user_movie_array).flatten()\n",
    "top_ratings_indices = ratings.argsort()[-10:][::-1]\n",
    "recommended_movie_ids = [\n",
    "    movie_encoded2movie.get(movies_not_watched[x][0]) for x in top_ratings_indices\n",
    "]"
   ]
  },
  {
   "cell_type": "code",
   "execution_count": 12,
   "id": "0edd72a7",
   "metadata": {},
   "outputs": [
    {
     "name": "stderr",
     "output_type": "stream",
     "text": [
      "2022-04-27 14:54:45.462091: I tensorflow/core/grappler/optimizers/custom_graph_optimizer_registry.cc:113] Plugin optimizer for device_type GPU is enabled.\n"
     ]
    },
    {
     "name": "stdout",
     "output_type": "stream",
     "text": [
      "Showing recommendations for user: 414\n",
      "====================================\n",
      "Movies with high ratings from user\n",
      "--------------------------------\n",
      "Dr. Strangelove or: How I Learned to Stop Worrying and Love the Bomb (1964) : Comedy|War\n",
      "Some Like It Hot (1959) : Comedy|Crime\n",
      "Wallace & Gromit: The Wrong Trousers (1993) : Animation|Children|Comedy|Crime\n",
      "L.A. Confidential (1997) : Crime|Film-Noir|Mystery|Thriller\n",
      "Rushmore (1998) : Comedy|Drama\n",
      "--------------------------------\n",
      "Top 10 movie recommendations\n",
      "--------------------------------\n",
      "12 Angry Men (1957) : Drama\n",
      "Third Man, The (1949) : Film-Noir|Mystery|Thriller\n",
      "Shining, The (1980) : Horror\n",
      "Great Dictator, The (1940) : Comedy|Drama|War\n",
      "High Noon (1952) : Drama|Western\n",
      "Rosemary's Baby (1968) : Drama|Horror|Thriller\n",
      "Hustler, The (1961) : Drama\n",
      "Laputa: Castle in the Sky (Tenkû no shiro Rapyuta) (1986) : Action|Adventure|Animation|Children|Fantasy|Sci-Fi\n",
      "Mary and Max (2009) : Animation|Comedy|Drama\n",
      "Intouchables (2011) : Comedy|Drama\n"
     ]
    }
   ],
   "source": [
    "print(\"Showing recommendations for user: {}\".format(user_id))\n",
    "print(\"====\" * 9)\n",
    "print(\"Movies with high ratings from user\")\n",
    "print(\"----\" * 8)\n",
    "top_movies_user = (\n",
    "    movies_watched_by_user.sort_values(by=\"rating\", ascending=False)\n",
    "    .head(5)\n",
    "    .movieId.values\n",
    ")\n",
    "movie_df_rows = movie_df[movie_df[\"movieId\"].isin(top_movies_user)]\n",
    "for row in movie_df_rows.itertuples():\n",
    "    print(row.title, \":\", row.genres)\n",
    "\n",
    "print(\"----\" * 8)\n",
    "print(\"Top 10 movie recommendations\")\n",
    "print(\"----\" * 8)\n",
    "recommended_movies = movie_df[movie_df[\"movieId\"].isin(recommended_movie_ids)]\n",
    "for row in recommended_movies.itertuples():\n",
    "    print(row.title, \":\", row.genres)\n"
   ]
  }
 ],
 "metadata": {
  "kernelspec": {
   "display_name": "Python 3 (ipykernel)",
   "language": "python",
   "name": "python3"
  },
  "language_info": {
   "codemirror_mode": {
    "name": "ipython",
    "version": 3
   },
   "file_extension": ".py",
   "mimetype": "text/x-python",
   "name": "python",
   "nbconvert_exporter": "python",
   "pygments_lexer": "ipython3",
   "version": "3.8.12"
  }
 },
 "nbformat": 4,
 "nbformat_minor": 5
}
