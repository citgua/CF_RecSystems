{
 "cells": [
  {
   "cell_type": "code",
   "execution_count": 2,
   "id": "3c06ac48",
   "metadata": {},
   "outputs": [],
   "source": [
    "import pandas as pd\n",
    "import numpy as np\n",
    "import tensorflow as tf\n",
    "from tensorflow import keras\n",
    "from tensorflow.keras import layers\n",
    "from pathlib import Path\n",
    "import matplotlib.pyplot as plt\n"
   ]
  },
  {
   "cell_type": "code",
   "execution_count": 3,
   "id": "a8798344",
   "metadata": {},
   "outputs": [
    {
     "name": "stdout",
     "output_type": "stream",
     "text": [
      "CFRC_Amazon-Copy1.ipynb  \u001b[34m__pycache__\u001b[m\u001b[m/             model01.h5\r\n",
      "CFRC_Amazon.ipynb        \u001b[34mbookDataset\u001b[m\u001b[m/             movies_history.pkl\r\n",
      "CFRC_Books-2.ipynb       books_history.pkl        movies_history_1.pkl\r\n",
      "CFRC_Books.ipynb         books_history_1.pkl      movies_history_2.pkl\r\n",
      "CFRC_BooksF.ipynb        books_history_2.pkl      \u001b[34mmovies_logs\u001b[m\u001b[m/\r\n",
      "CFRC_Movies.ipynb        \u001b[34mbooks_logs\u001b[m\u001b[m/              prepdata.py\r\n",
      "CFRC_MoviesF.ipynb       makeRec.py               ratings_Electronics.csv\r\n",
      "ExploringData.ipynb      \u001b[34mml-latest-small\u001b[m\u001b[m/         recmodel.py\r\n"
     ]
    }
   ],
   "source": [
    "ls"
   ]
  },
  {
   "cell_type": "markdown",
   "id": "eb3bf49b",
   "metadata": {},
   "source": [
    "# First, load the data and apply preprocessing"
   ]
  },
  {
   "cell_type": "code",
   "execution_count": null,
   "id": "c6b91ef9",
   "metadata": {},
   "outputs": [],
   "source": [
    "The following function loads data into Dataframe with "
   ]
  },
  {
   "cell_type": "code",
   "execution_count": 4,
   "id": "397c8830",
   "metadata": {},
   "outputs": [],
   "source": [
    "from prepdata import load"
   ]
  },
  {
   "cell_type": "code",
   "execution_count": 5,
   "id": "8ae4d051",
   "metadata": {},
   "outputs": [],
   "source": [
    "import os\n",
    "#book dir holds both ratings.csv and books.csv\n",
    "books_dir= os.path.abspath(os.path.abspath(\"bookDataset\"))\n",
    "amazon_file = os.path.abspath(os.path.abspath(\"ratings_Electronics.csv\"))\n",
    "#movie dir holds both  ratings.csv and movies.csv\n",
    "movies_dir = os.path.abspath(os.path.abspath(\"ml-latest-small\"))"
   ]
  },
  {
   "cell_type": "markdown",
   "id": "a756c14a",
   "metadata": {},
   "source": [
    "We will be testing on the Book Dataset: \n",
    "   - itemId represents \"book id\" "
   ]
  },
  {
   "cell_type": "code",
   "execution_count": 6,
   "id": "2f485436",
   "metadata": {},
   "outputs": [],
   "source": [
    "df, books_df = load(\"books\", books_dir)"
   ]
  },
  {
   "cell_type": "code",
   "execution_count": 7,
   "id": "23b43e4c",
   "metadata": {
    "scrolled": true
   },
   "outputs": [
    {
     "data": {
      "text/html": [
       "<div>\n",
       "<style scoped>\n",
       "    .dataframe tbody tr th:only-of-type {\n",
       "        vertical-align: middle;\n",
       "    }\n",
       "\n",
       "    .dataframe tbody tr th {\n",
       "        vertical-align: top;\n",
       "    }\n",
       "\n",
       "    .dataframe thead th {\n",
       "        text-align: right;\n",
       "    }\n",
       "</style>\n",
       "<table border=\"1\" class=\"dataframe\">\n",
       "  <thead>\n",
       "    <tr style=\"text-align: right;\">\n",
       "      <th></th>\n",
       "      <th>itemId</th>\n",
       "      <th>userId</th>\n",
       "      <th>rating</th>\n",
       "    </tr>\n",
       "  </thead>\n",
       "  <tbody>\n",
       "    <tr>\n",
       "      <th>0</th>\n",
       "      <td>1</td>\n",
       "      <td>314</td>\n",
       "      <td>5</td>\n",
       "    </tr>\n",
       "    <tr>\n",
       "      <th>1</th>\n",
       "      <td>1</td>\n",
       "      <td>439</td>\n",
       "      <td>3</td>\n",
       "    </tr>\n",
       "    <tr>\n",
       "      <th>2</th>\n",
       "      <td>1</td>\n",
       "      <td>588</td>\n",
       "      <td>5</td>\n",
       "    </tr>\n",
       "    <tr>\n",
       "      <th>3</th>\n",
       "      <td>1</td>\n",
       "      <td>1169</td>\n",
       "      <td>4</td>\n",
       "    </tr>\n",
       "    <tr>\n",
       "      <th>4</th>\n",
       "      <td>1</td>\n",
       "      <td>1185</td>\n",
       "      <td>4</td>\n",
       "    </tr>\n",
       "    <tr>\n",
       "      <th>...</th>\n",
       "      <td>...</td>\n",
       "      <td>...</td>\n",
       "      <td>...</td>\n",
       "    </tr>\n",
       "    <tr>\n",
       "      <th>981751</th>\n",
       "      <td>10000</td>\n",
       "      <td>48386</td>\n",
       "      <td>5</td>\n",
       "    </tr>\n",
       "    <tr>\n",
       "      <th>981752</th>\n",
       "      <td>10000</td>\n",
       "      <td>49007</td>\n",
       "      <td>4</td>\n",
       "    </tr>\n",
       "    <tr>\n",
       "      <th>981753</th>\n",
       "      <td>10000</td>\n",
       "      <td>49383</td>\n",
       "      <td>5</td>\n",
       "    </tr>\n",
       "    <tr>\n",
       "      <th>981754</th>\n",
       "      <td>10000</td>\n",
       "      <td>50124</td>\n",
       "      <td>5</td>\n",
       "    </tr>\n",
       "    <tr>\n",
       "      <th>981755</th>\n",
       "      <td>10000</td>\n",
       "      <td>51328</td>\n",
       "      <td>1</td>\n",
       "    </tr>\n",
       "  </tbody>\n",
       "</table>\n",
       "<p>981756 rows × 3 columns</p>\n",
       "</div>"
      ],
      "text/plain": [
       "        itemId  userId  rating\n",
       "0            1     314       5\n",
       "1            1     439       3\n",
       "2            1     588       5\n",
       "3            1    1169       4\n",
       "4            1    1185       4\n",
       "...        ...     ...     ...\n",
       "981751   10000   48386       5\n",
       "981752   10000   49007       4\n",
       "981753   10000   49383       5\n",
       "981754   10000   50124       5\n",
       "981755   10000   51328       1\n",
       "\n",
       "[981756 rows x 3 columns]"
      ]
     },
     "execution_count": 7,
     "metadata": {},
     "output_type": "execute_result"
    }
   ],
   "source": [
    "df"
   ]
  },
  {
   "cell_type": "code",
   "execution_count": 8,
   "id": "1c53cf58",
   "metadata": {},
   "outputs": [],
   "source": [
    "from prepdata import createList, formatData"
   ]
  },
  {
   "cell_type": "code",
   "execution_count": 9,
   "id": "fe5c45c2",
   "metadata": {},
   "outputs": [],
   "source": [
    "user = createList(df, pram= 'user')\n",
    "item = createList(df, pram= 'item')"
   ]
  },
  {
   "cell_type": "code",
   "execution_count": 10,
   "id": "35e55191",
   "metadata": {},
   "outputs": [
    {
     "name": "stdout",
     "output_type": "stream",
     "text": [
      "Number of users: 53424, Number of Books: 10000, Min rating: 1.0, Max rating: 5.0\n"
     ]
    }
   ],
   "source": [
    "num_users, num_items = formatData(df, user,item)"
   ]
  },
  {
   "cell_type": "code",
   "execution_count": 11,
   "id": "2b07d070",
   "metadata": {},
   "outputs": [
    {
     "data": {
      "text/html": [
       "<div>\n",
       "<style scoped>\n",
       "    .dataframe tbody tr th:only-of-type {\n",
       "        vertical-align: middle;\n",
       "    }\n",
       "\n",
       "    .dataframe tbody tr th {\n",
       "        vertical-align: top;\n",
       "    }\n",
       "\n",
       "    .dataframe thead th {\n",
       "        text-align: right;\n",
       "    }\n",
       "</style>\n",
       "<table border=\"1\" class=\"dataframe\">\n",
       "  <thead>\n",
       "    <tr style=\"text-align: right;\">\n",
       "      <th></th>\n",
       "      <th>itemId</th>\n",
       "      <th>userId</th>\n",
       "      <th>rating</th>\n",
       "      <th>user</th>\n",
       "      <th>item</th>\n",
       "    </tr>\n",
       "  </thead>\n",
       "  <tbody>\n",
       "    <tr>\n",
       "      <th>0</th>\n",
       "      <td>1</td>\n",
       "      <td>314</td>\n",
       "      <td>5.0</td>\n",
       "      <td>0</td>\n",
       "      <td>0</td>\n",
       "    </tr>\n",
       "    <tr>\n",
       "      <th>1</th>\n",
       "      <td>1</td>\n",
       "      <td>439</td>\n",
       "      <td>3.0</td>\n",
       "      <td>1</td>\n",
       "      <td>0</td>\n",
       "    </tr>\n",
       "    <tr>\n",
       "      <th>2</th>\n",
       "      <td>1</td>\n",
       "      <td>588</td>\n",
       "      <td>5.0</td>\n",
       "      <td>2</td>\n",
       "      <td>0</td>\n",
       "    </tr>\n",
       "    <tr>\n",
       "      <th>3</th>\n",
       "      <td>1</td>\n",
       "      <td>1169</td>\n",
       "      <td>4.0</td>\n",
       "      <td>3</td>\n",
       "      <td>0</td>\n",
       "    </tr>\n",
       "    <tr>\n",
       "      <th>4</th>\n",
       "      <td>1</td>\n",
       "      <td>1185</td>\n",
       "      <td>4.0</td>\n",
       "      <td>4</td>\n",
       "      <td>0</td>\n",
       "    </tr>\n",
       "    <tr>\n",
       "      <th>...</th>\n",
       "      <td>...</td>\n",
       "      <td>...</td>\n",
       "      <td>...</td>\n",
       "      <td>...</td>\n",
       "      <td>...</td>\n",
       "    </tr>\n",
       "    <tr>\n",
       "      <th>981751</th>\n",
       "      <td>10000</td>\n",
       "      <td>48386</td>\n",
       "      <td>5.0</td>\n",
       "      <td>9166</td>\n",
       "      <td>9999</td>\n",
       "    </tr>\n",
       "    <tr>\n",
       "      <th>981752</th>\n",
       "      <td>10000</td>\n",
       "      <td>49007</td>\n",
       "      <td>4.0</td>\n",
       "      <td>28415</td>\n",
       "      <td>9999</td>\n",
       "    </tr>\n",
       "    <tr>\n",
       "      <th>981753</th>\n",
       "      <td>10000</td>\n",
       "      <td>49383</td>\n",
       "      <td>5.0</td>\n",
       "      <td>31031</td>\n",
       "      <td>9999</td>\n",
       "    </tr>\n",
       "    <tr>\n",
       "      <th>981754</th>\n",
       "      <td>10000</td>\n",
       "      <td>50124</td>\n",
       "      <td>5.0</td>\n",
       "      <td>16722</td>\n",
       "      <td>9999</td>\n",
       "    </tr>\n",
       "    <tr>\n",
       "      <th>981755</th>\n",
       "      <td>10000</td>\n",
       "      <td>51328</td>\n",
       "      <td>1.0</td>\n",
       "      <td>6229</td>\n",
       "      <td>9999</td>\n",
       "    </tr>\n",
       "  </tbody>\n",
       "</table>\n",
       "<p>981756 rows × 5 columns</p>\n",
       "</div>"
      ],
      "text/plain": [
       "        itemId  userId  rating   user  item\n",
       "0            1     314     5.0      0     0\n",
       "1            1     439     3.0      1     0\n",
       "2            1     588     5.0      2     0\n",
       "3            1    1169     4.0      3     0\n",
       "4            1    1185     4.0      4     0\n",
       "...        ...     ...     ...    ...   ...\n",
       "981751   10000   48386     5.0   9166  9999\n",
       "981752   10000   49007     4.0  28415  9999\n",
       "981753   10000   49383     5.0  31031  9999\n",
       "981754   10000   50124     5.0  16722  9999\n",
       "981755   10000   51328     1.0   6229  9999\n",
       "\n",
       "[981756 rows x 5 columns]"
      ]
     },
     "execution_count": 11,
     "metadata": {},
     "output_type": "execute_result"
    }
   ],
   "source": [
    "df"
   ]
  },
  {
   "cell_type": "markdown",
   "id": "58235a65",
   "metadata": {},
   "source": [
    "# Prepare training and validation data"
   ]
  },
  {
   "cell_type": "markdown",
   "id": "87758ab9",
   "metadata": {},
   "source": [
    "In here, we shuffle the data indices and made a 90/10 split for test/val. "
   ]
  },
  {
   "cell_type": "code",
   "execution_count": 12,
   "id": "c80b19fc",
   "metadata": {},
   "outputs": [],
   "source": [
    "from prepdata import prepData"
   ]
  },
  {
   "cell_type": "code",
   "execution_count": 13,
   "id": "8e9fe61a",
   "metadata": {},
   "outputs": [],
   "source": [
    "x_train, x_val, y_train, y_val = prepData(df)"
   ]
  },
  {
   "cell_type": "markdown",
   "id": "39f5d634",
   "metadata": {},
   "source": [
    "# Create the model"
   ]
  },
  {
   "cell_type": "markdown",
   "id": "74f6853d",
   "metadata": {},
   "source": [
    "We embed both users and movies in to 50-dimensional vectors.\n",
    "\n",
    "The model computes a match score between user and movie embeddings via a dot product, and adds a per-movie and per-user bias. The match score is scaled to the [0, 1] interval via a sigmoid (since our ratings are normalized to this range)."
   ]
  },
  {
   "cell_type": "code",
   "execution_count": 14,
   "id": "60401c7d",
   "metadata": {},
   "outputs": [
    {
     "name": "stdout",
     "output_type": "stream",
     "text": [
      "Metal device set to: Apple M1 Pro\n"
     ]
    },
    {
     "name": "stderr",
     "output_type": "stream",
     "text": [
      "2022-05-06 11:02:44.021229: I tensorflow/core/common_runtime/pluggable_device/pluggable_device_factory.cc:305] Could not identify NUMA node of platform GPU ID 0, defaulting to 0. Your kernel may not have been built with NUMA support.\n",
      "2022-05-06 11:02:44.021678: I tensorflow/core/common_runtime/pluggable_device/pluggable_device_factory.cc:271] Created TensorFlow device (/job:localhost/replica:0/task:0/device:GPU:0 with 0 MB memory) -> physical PluggableDevice (device: 0, name: METAL, pci bus id: <undefined>)\n",
      "/Users/citlallylopez/miniforge3/envs/mbp/lib/python3.8/site-packages/keras/optimizer_v2/adam.py:105: UserWarning: The `lr` argument is deprecated, use `learning_rate` instead.\n",
      "  super(Adam, self).__init__(name, **kwargs)\n"
     ]
    }
   ],
   "source": [
    "EMBEDDING_SIZE = 50\n",
    "\n",
    "\n",
    "class RecommenderNet(keras.Model):\n",
    "    def __init__(self, num_users, num_movies, embedding_size, **kwargs):\n",
    "        super(RecommenderNet, self).__init__(**kwargs)\n",
    "        self.num_users = num_users\n",
    "        self.num_movies = num_movies\n",
    "        self.embedding_size = embedding_size\n",
    "        self.user_embedding = layers.Embedding(\n",
    "            num_users,\n",
    "            embedding_size,\n",
    "            embeddings_initializer=\"he_normal\",\n",
    "            embeddings_regularizer=keras.regularizers.l2(1e-6),\n",
    "        )\n",
    "        self.user_bias = layers.Embedding(num_users, 1)\n",
    "        self.movie_embedding = layers.Embedding(\n",
    "            num_movies,\n",
    "            embedding_size,\n",
    "            embeddings_initializer=\"he_normal\",\n",
    "            embeddings_regularizer=keras.regularizers.l2(1e-6),\n",
    "        )\n",
    "        self.movie_bias = layers.Embedding(num_movies, 1)\n",
    "\n",
    "    def call(self, inputs):\n",
    "        user_vector = self.user_embedding(inputs[:, 0])\n",
    "        user_bias = self.user_bias(inputs[:, 0])\n",
    "        movie_vector = self.movie_embedding(inputs[:, 1])\n",
    "        movie_bias = self.movie_bias(inputs[:, 1])\n",
    "        dot_user_movie = tf.tensordot(user_vector, movie_vector, 2)\n",
    "        # Add all the components (including bias)\n",
    "        x = dot_user_movie + user_bias + movie_bias\n",
    "        # The sigmoid activation forces the rating to between 0 and 1\n",
    "        return tf.nn.sigmoid(x)\n",
    "\n",
    "\n",
    "model = RecommenderNet(num_users, num_items, EMBEDDING_SIZE)\n",
    "model.compile(\n",
    "    loss=tf.keras.losses.BinaryCrossentropy(), optimizer=keras.optimizers.Adam(lr=0.001)\n",
    ")\n"
   ]
  },
  {
   "cell_type": "markdown",
   "id": "2e472a96",
   "metadata": {},
   "source": [
    "# Train the model based on the data split"
   ]
  },
  {
   "cell_type": "code",
   "execution_count": 22,
   "id": "e0e815f6",
   "metadata": {},
   "outputs": [],
   "source": [
    "#saving checkoints\n",
    "from keras.callbacks import ModelCheckpoint\n",
    "\n",
    "#issue: unable to use due to subclassed model\n",
    "checkpoint = ModelCheckpoint('books_logs/model{epoch:02d}.h5', monitor='loss', verbose=1,\n",
    "     save_best_only=True, mode='auto', save_freq='epoch', save_weights_only=True)"
   ]
  },
  {
   "cell_type": "code",
   "execution_count": 50,
   "id": "447c5c58",
   "metadata": {
    "scrolled": true
   },
   "outputs": [
    {
     "name": "stdout",
     "output_type": "stream",
     "text": [
      "CPU times: user 4 µs, sys: 3 µs, total: 7 µs\n",
      "Wall time: 13.1 µs\n",
      "Epoch 1/10\n",
      "13805/13806 [============================>.] - ETA: 0s - loss: 1.1506\n",
      "Epoch 1: loss improved from inf to 1.15070, saving model to books_logs/model01.h5\n",
      "13806/13806 [==============================] - 221s 16ms/step - loss: 1.1507 - val_loss: 0.9434\n",
      "Epoch 2/10\n",
      "13804/13806 [============================>.] - ETA: 0s - loss: 1.1871\n",
      "Epoch 2: loss did not improve from 1.15070\n",
      "13806/13806 [==============================] - 223s 16ms/step - loss: 1.1870 - val_loss: 0.9737\n",
      "Epoch 3/10\n",
      "13806/13806 [==============================] - ETA: 0s - loss: 1.3166\n",
      "Epoch 3: loss did not improve from 1.15070\n",
      "13806/13806 [==============================] - 221s 16ms/step - loss: 1.3166 - val_loss: 1.0626\n",
      "Epoch 4/10\n",
      "13803/13806 [============================>.] - ETA: 0s - loss: 1.3079\n",
      "Epoch 4: loss did not improve from 1.15070\n",
      "13806/13806 [==============================] - 221s 16ms/step - loss: 1.3078 - val_loss: 0.9899\n",
      "Epoch 5/10\n",
      "13805/13806 [============================>.] - ETA: 0s - loss: 1.9959\n",
      "Epoch 5: loss did not improve from 1.15070\n",
      "13806/13806 [==============================] - 222s 16ms/step - loss: 1.9958 - val_loss: 1.5251\n",
      "Epoch 6/10\n",
      "13805/13806 [============================>.] - ETA: 0s - loss: 1.6458\n",
      "Epoch 6: loss did not improve from 1.15070\n",
      "13806/13806 [==============================] - 222s 16ms/step - loss: 1.6457 - val_loss: 1.3887\n",
      "Epoch 7/10\n",
      "13805/13806 [============================>.] - ETA: 0s - loss: 2.3362\n",
      "Epoch 7: loss did not improve from 1.15070\n",
      "13806/13806 [==============================] - 233s 17ms/step - loss: 2.3361 - val_loss: 1.5348\n",
      "Epoch 8/10\n",
      "13805/13806 [============================>.] - ETA: 0s - loss: 1.4452\n",
      "Epoch 8: loss did not improve from 1.15070\n",
      "13806/13806 [==============================] - 237s 17ms/step - loss: 1.4451 - val_loss: 1.3016\n",
      "Epoch 9/10\n",
      "13803/13806 [============================>.] - ETA: 0s - loss: 1.4456\n",
      "Epoch 9: loss did not improve from 1.15070\n",
      "13806/13806 [==============================] - 230s 17ms/step - loss: 1.4455 - val_loss: 1.2024\n",
      "Epoch 10/10\n",
      "13805/13806 [============================>.] - ETA: 0s - loss: 1.0946\n",
      "Epoch 10: loss improved from 1.15070 to 1.09460, saving model to books_logs/model10.h5\n",
      "13806/13806 [==============================] - 222s 16ms/step - loss: 1.0946 - val_loss: 0.9990\n"
     ]
    }
   ],
   "source": [
    "%time\n",
    "history = model.fit(\n",
    "    x=x_train,\n",
    "    y=y_train,\n",
    "    batch_size=64,\n",
    "    epochs=10,\n",
    "    verbose=1,\n",
    "    validation_data=(x_val, y_val),\n",
    "    callbacks=[checkpoint]\n",
    ")\n",
    "\n"
   ]
  },
  {
   "cell_type": "markdown",
   "id": "8542db41",
   "metadata": {},
   "source": [
    "### Load and save history"
   ]
  },
  {
   "cell_type": "code",
   "execution_count": 15,
   "id": "8107ff53",
   "metadata": {},
   "outputs": [
    {
     "name": "stdout",
     "output_type": "stream",
     "text": [
      "INFO:tensorflow:Assets written to: ram://18e122f8-a00d-452c-83b8-f5a70c120088/assets\n"
     ]
    }
   ],
   "source": [
    "import pickle\n",
    "# Save train  loss history - changes previous history if trained before\n",
    "pickle.dump(history, open('books_history_2.pkl', 'wb'))"
   ]
  },
  {
   "cell_type": "code",
   "execution_count": 40,
   "id": "291859b5",
   "metadata": {},
   "outputs": [],
   "source": [
    "#if training before, input old history\n",
    "with open('books_history.pkl', 'rb') as f:\n",
    "    h = pickle.load(f)"
   ]
  },
  {
   "cell_type": "code",
   "execution_count": 63,
   "id": "1c11da97",
   "metadata": {
    "scrolled": true
   },
   "outputs": [
    {
     "data": {
      "text/plain": [
       "{'loss': [0.6069590449333191,\n",
       "  0.6254448890686035,\n",
       "  0.6838517785072327,\n",
       "  0.74885094165802,\n",
       "  0.8136065006256104],\n",
       " 'val_loss': [0.6028047800064087,\n",
       "  0.6430683732032776,\n",
       "  0.681881308555603,\n",
       "  0.7193261384963989,\n",
       "  0.7446820735931396]}"
      ]
     },
     "execution_count": 63,
     "metadata": {},
     "output_type": "execute_result"
    }
   ],
   "source": [
    "h.history"
   ]
  },
  {
   "cell_type": "markdown",
   "id": "53f3c85f",
   "metadata": {},
   "source": [
    "### Load and save model"
   ]
  },
  {
   "cell_type": "code",
   "execution_count": 16,
   "id": "03a51d08",
   "metadata": {},
   "outputs": [],
   "source": [
    "from recmodel import get_latestfile"
   ]
  },
  {
   "cell_type": "code",
   "execution_count": 17,
   "id": "048dbbc7",
   "metadata": {},
   "outputs": [],
   "source": [
    "books_log= os.path.abspath(os.path.abspath(\"books_logs\"))"
   ]
  },
  {
   "cell_type": "code",
   "execution_count": 18,
   "id": "1574db20",
   "metadata": {
    "scrolled": true
   },
   "outputs": [],
   "source": [
    "os.chdir(books_log)"
   ]
  },
  {
   "cell_type": "code",
   "execution_count": 19,
   "id": "21eca3f7",
   "metadata": {},
   "outputs": [
    {
     "data": {
      "text/plain": [
       "'model10.h5'"
      ]
     },
     "execution_count": 19,
     "metadata": {},
     "output_type": "execute_result"
    }
   ],
   "source": [
    "latest=get_latestfile(os.listdir())\n",
    "latest"
   ]
  },
  {
   "cell_type": "code",
   "execution_count": 21,
   "id": "d81dfc9a",
   "metadata": {
    "collapsed": true
   },
   "outputs": [
    {
     "ename": "ValueError",
     "evalue": "No model config found in the file at <tensorflow.python.platform.gfile.GFile object at 0x2acffae50>.",
     "output_type": "error",
     "traceback": [
      "\u001b[0;31m---------------------------------------------------------------------------\u001b[0m",
      "\u001b[0;31mValueError\u001b[0m                                Traceback (most recent call last)",
      "Input \u001b[0;32mIn [21]\u001b[0m, in \u001b[0;36m<cell line: 3>\u001b[0;34m()\u001b[0m\n\u001b[1;32m      1\u001b[0m \u001b[38;5;66;03m# load model\u001b[39;00m\n\u001b[1;32m      2\u001b[0m \u001b[38;5;28;01mfrom\u001b[39;00m \u001b[38;5;21;01mkeras\u001b[39;00m\u001b[38;5;21;01m.\u001b[39;00m\u001b[38;5;21;01mmodels\u001b[39;00m \u001b[38;5;28;01mimport\u001b[39;00m load_model\n\u001b[0;32m----> 3\u001b[0m model \u001b[38;5;241m=\u001b[39m \u001b[43mload_model\u001b[49m\u001b[43m(\u001b[49m\u001b[43mlatest\u001b[49m\u001b[43m)\u001b[49m\n",
      "File \u001b[0;32m~/miniforge3/envs/mbp/lib/python3.8/site-packages/keras/utils/traceback_utils.py:67\u001b[0m, in \u001b[0;36mfilter_traceback.<locals>.error_handler\u001b[0;34m(*args, **kwargs)\u001b[0m\n\u001b[1;32m     65\u001b[0m \u001b[38;5;28;01mexcept\u001b[39;00m \u001b[38;5;167;01mException\u001b[39;00m \u001b[38;5;28;01mas\u001b[39;00m e:  \u001b[38;5;66;03m# pylint: disable=broad-except\u001b[39;00m\n\u001b[1;32m     66\u001b[0m   filtered_tb \u001b[38;5;241m=\u001b[39m _process_traceback_frames(e\u001b[38;5;241m.\u001b[39m__traceback__)\n\u001b[0;32m---> 67\u001b[0m   \u001b[38;5;28;01mraise\u001b[39;00m e\u001b[38;5;241m.\u001b[39mwith_traceback(filtered_tb) \u001b[38;5;28;01mfrom\u001b[39;00m \u001b[38;5;28mNone\u001b[39m\n\u001b[1;32m     68\u001b[0m \u001b[38;5;28;01mfinally\u001b[39;00m:\n\u001b[1;32m     69\u001b[0m   \u001b[38;5;28;01mdel\u001b[39;00m filtered_tb\n",
      "File \u001b[0;32m~/miniforge3/envs/mbp/lib/python3.8/site-packages/keras/saving/hdf5_format.py:182\u001b[0m, in \u001b[0;36mload_model_from_hdf5\u001b[0;34m(filepath, custom_objects, compile)\u001b[0m\n\u001b[1;32m    180\u001b[0m model_config \u001b[38;5;241m=\u001b[39m f\u001b[38;5;241m.\u001b[39mattrs\u001b[38;5;241m.\u001b[39mget(\u001b[38;5;124m'\u001b[39m\u001b[38;5;124mmodel_config\u001b[39m\u001b[38;5;124m'\u001b[39m)\n\u001b[1;32m    181\u001b[0m \u001b[38;5;28;01mif\u001b[39;00m model_config \u001b[38;5;129;01mis\u001b[39;00m \u001b[38;5;28;01mNone\u001b[39;00m:\n\u001b[0;32m--> 182\u001b[0m   \u001b[38;5;28;01mraise\u001b[39;00m \u001b[38;5;167;01mValueError\u001b[39;00m(\u001b[38;5;124mf\u001b[39m\u001b[38;5;124m'\u001b[39m\u001b[38;5;124mNo model config found in the file at \u001b[39m\u001b[38;5;132;01m{\u001b[39;00mfilepath\u001b[38;5;132;01m}\u001b[39;00m\u001b[38;5;124m.\u001b[39m\u001b[38;5;124m'\u001b[39m)\n\u001b[1;32m    183\u001b[0m \u001b[38;5;28;01mif\u001b[39;00m \u001b[38;5;28mhasattr\u001b[39m(model_config, \u001b[38;5;124m'\u001b[39m\u001b[38;5;124mdecode\u001b[39m\u001b[38;5;124m'\u001b[39m):\n\u001b[1;32m    184\u001b[0m   model_config \u001b[38;5;241m=\u001b[39m model_config\u001b[38;5;241m.\u001b[39mdecode(\u001b[38;5;124m'\u001b[39m\u001b[38;5;124mutf-8\u001b[39m\u001b[38;5;124m'\u001b[39m)\n",
      "\u001b[0;31mValueError\u001b[0m: No model config found in the file at <tensorflow.python.platform.gfile.GFile object at 0x2acffae50>."
     ]
    }
   ],
   "source": [
    "# load model\n",
    "from keras.models import load_model\n",
    "weights = load_model(latest)"
   ]
  },
  {
   "cell_type": "code",
   "execution_count": 20,
   "id": "297f0b45",
   "metadata": {
    "collapsed": true
   },
   "outputs": [
    {
     "ename": "ValueError",
     "evalue": "Unable to load weights saved in HDF5 format into a subclassed Model which has not created its variables yet. Call the Model first, then load the weights.",
     "output_type": "error",
     "traceback": [
      "\u001b[0;31m---------------------------------------------------------------------------\u001b[0m",
      "\u001b[0;31mValueError\u001b[0m                                Traceback (most recent call last)",
      "Input \u001b[0;32mIn [20]\u001b[0m, in \u001b[0;36m<cell line: 1>\u001b[0;34m()\u001b[0m\n\u001b[0;32m----> 1\u001b[0m \u001b[43mmodel\u001b[49m\u001b[38;5;241;43m.\u001b[39;49m\u001b[43mload_weights\u001b[49m\u001b[43m(\u001b[49m\u001b[43mlatest\u001b[49m\u001b[43m)\u001b[49m\n",
      "File \u001b[0;32m~/miniforge3/envs/mbp/lib/python3.8/site-packages/keras/utils/traceback_utils.py:67\u001b[0m, in \u001b[0;36mfilter_traceback.<locals>.error_handler\u001b[0;34m(*args, **kwargs)\u001b[0m\n\u001b[1;32m     65\u001b[0m \u001b[38;5;28;01mexcept\u001b[39;00m \u001b[38;5;167;01mException\u001b[39;00m \u001b[38;5;28;01mas\u001b[39;00m e:  \u001b[38;5;66;03m# pylint: disable=broad-except\u001b[39;00m\n\u001b[1;32m     66\u001b[0m   filtered_tb \u001b[38;5;241m=\u001b[39m _process_traceback_frames(e\u001b[38;5;241m.\u001b[39m__traceback__)\n\u001b[0;32m---> 67\u001b[0m   \u001b[38;5;28;01mraise\u001b[39;00m e\u001b[38;5;241m.\u001b[39mwith_traceback(filtered_tb) \u001b[38;5;28;01mfrom\u001b[39;00m \u001b[38;5;28mNone\u001b[39m\n\u001b[1;32m     68\u001b[0m \u001b[38;5;28;01mfinally\u001b[39;00m:\n\u001b[1;32m     69\u001b[0m   \u001b[38;5;28;01mdel\u001b[39;00m filtered_tb\n",
      "File \u001b[0;32m~/miniforge3/envs/mbp/lib/python3.8/site-packages/keras/engine/training.py:2593\u001b[0m, in \u001b[0;36mModel.load_weights\u001b[0;34m(self, filepath, by_name, skip_mismatch, options)\u001b[0m\n\u001b[1;32m   2589\u001b[0m   \u001b[38;5;28;01mraise\u001b[39;00m \u001b[38;5;167;01mImportError\u001b[39;00m(\n\u001b[1;32m   2590\u001b[0m       \u001b[38;5;124m'\u001b[39m\u001b[38;5;124m`load_weights` requires h5py package when loading weights from \u001b[39m\u001b[38;5;124m'\u001b[39m\n\u001b[1;32m   2591\u001b[0m       \u001b[38;5;124m'\u001b[39m\u001b[38;5;124mHDF5. Try installing h5py.\u001b[39m\u001b[38;5;124m'\u001b[39m)\n\u001b[1;32m   2592\u001b[0m \u001b[38;5;28;01mif\u001b[39;00m \u001b[38;5;129;01mnot\u001b[39;00m \u001b[38;5;28mself\u001b[39m\u001b[38;5;241m.\u001b[39m_is_graph_network \u001b[38;5;129;01mand\u001b[39;00m \u001b[38;5;129;01mnot\u001b[39;00m \u001b[38;5;28mself\u001b[39m\u001b[38;5;241m.\u001b[39mbuilt:\n\u001b[0;32m-> 2593\u001b[0m   \u001b[38;5;28;01mraise\u001b[39;00m \u001b[38;5;167;01mValueError\u001b[39;00m(\n\u001b[1;32m   2594\u001b[0m       \u001b[38;5;124m'\u001b[39m\u001b[38;5;124mUnable to load weights saved in HDF5 format into a subclassed \u001b[39m\u001b[38;5;124m'\u001b[39m\n\u001b[1;32m   2595\u001b[0m       \u001b[38;5;124m'\u001b[39m\u001b[38;5;124mModel which has not created its variables yet. Call the Model \u001b[39m\u001b[38;5;124m'\u001b[39m\n\u001b[1;32m   2596\u001b[0m       \u001b[38;5;124m'\u001b[39m\u001b[38;5;124mfirst, then load the weights.\u001b[39m\u001b[38;5;124m'\u001b[39m)\n\u001b[1;32m   2597\u001b[0m \u001b[38;5;28mself\u001b[39m\u001b[38;5;241m.\u001b[39m_assert_weights_created()\n\u001b[1;32m   2598\u001b[0m \u001b[38;5;28;01mwith\u001b[39;00m h5py\u001b[38;5;241m.\u001b[39mFile(filepath, \u001b[38;5;124m'\u001b[39m\u001b[38;5;124mr\u001b[39m\u001b[38;5;124m'\u001b[39m) \u001b[38;5;28;01mas\u001b[39;00m f:\n",
      "\u001b[0;31mValueError\u001b[0m: Unable to load weights saved in HDF5 format into a subclassed Model which has not created its variables yet. Call the Model first, then load the weights."
     ]
    }
   ],
   "source": [
    "model.load_weights(latest)"
   ]
  },
  {
   "cell_type": "markdown",
   "id": "ca7ef744",
   "metadata": {},
   "source": [
    "# Plot training and validation loss"
   ]
  },
  {
   "cell_type": "code",
   "execution_count": 52,
   "id": "c1ca15c8",
   "metadata": {},
   "outputs": [
    {
     "data": {
      "image/png": "[encoded data removed]",
      "text/plain": [
       "<Figure size 432x288 with 1 Axes>"
      ]
     },
     "metadata": {
      "needs_background": "light"
     },
     "output_type": "display_data"
    }
   ],
   "source": [
    "#third attempt with 10 epochs --\"books_history_2.pkl\"\n",
    "plt.plot(history.history[\"loss\"])\n",
    "plt.plot(history.history[\"val_loss\"])\n",
    "plt.title(\"model loss\")\n",
    "plt.ylabel(\"loss\")\n",
    "plt.xlabel(\"epoch\")\n",
    "plt.legend([\"train\", \"test\"], loc=\"upper left\")\n",
    "plt.show()\n"
   ]
  },
  {
   "cell_type": "code",
   "execution_count": 47,
   "id": "130b86fb",
   "metadata": {},
   "outputs": [
    {
     "data": {
      "image/png": "[encoded data removed]",
      "text/plain": [
       "<Figure size 432x288 with 1 Axes>"
      ]
     },
     "metadata": {
      "needs_background": "light"
     },
     "output_type": "display_data"
    }
   ],
   "source": [
    "#second attempt with 5 epochs --\"books_history_1.pkl\"\n",
    "plt.plot(history.history[\"loss\"])\n",
    "plt.plot(history.history[\"val_loss\"])\n",
    "plt.title(\"model loss\")\n",
    "plt.ylabel(\"loss\")\n",
    "plt.xlabel(\"epoch\")\n",
    "plt.legend([\"train\", \"test\"], loc=\"upper left\")\n",
    "plt.show()\n"
   ]
  },
  {
   "cell_type": "code",
   "execution_count": 46,
   "id": "e8daa39f",
   "metadata": {},
   "outputs": [
    {
     "data": {
      "image/png": "[encoded data removed]",
      "text/plain": [
       "<Figure size 432x288 with 1 Axes>"
      ]
     },
     "metadata": {
      "needs_background": "light"
     },
     "output_type": "display_data"
    }
   ],
   "source": [
    "#first attempt with 5 epochs --\"books_history.pkl\"\n",
    "plt.plot(history.history[\"loss\"])\n",
    "plt.plot(history.history[\"val_loss\"])\n",
    "plt.title(\"model loss\")\n",
    "plt.ylabel(\"loss\")\n",
    "plt.xlabel(\"epoch\")\n",
    "plt.legend([\"train\", \"test\"], loc=\"upper left\")\n",
    "plt.show()\n"
   ]
  },
  {
   "cell_type": "markdown",
   "id": "ea72dcb6",
   "metadata": {},
   "source": [
    "# Show top 10 book recommendations to a user"
   ]
  },
  {
   "cell_type": "markdown",
   "id": "770381c6",
   "metadata": {},
   "source": [
    "We were are to predict 10 book recommendations. However, the code below was used before modifiying datasets. Needs to be revised. Currently working on revising function under makeRec module"
   ]
  },
  {
   "cell_type": "code",
   "execution_count": 52,
   "id": "8b1c3b5f",
   "metadata": {},
   "outputs": [],
   "source": [
    "# Let us get a user and see the top recommendations.\n",
    "uid = df.user_id.sample(1).iloc[0]\n",
    "items_by_user = df[df.user_id == uid]\n",
    "items_not_watched = items_df[\n",
    "    ~items_df[\"book_id\"].isin(items_by_user.book_id.values)\n",
    "][\"book_id\"]\n",
    "items_not_watched = list(\n",
    "    set(items_not_watched).intersection(set(item2item_encoded.keys()))\n",
    ")\n",
    "items_not_watched = [[item2item_encoded.get(x)] for x in items_not_watched]\n",
    "user_encoder = user2user_encoded.get(uid)\n",
    "user_item_array = np.hstack(\n",
    "    ([[user_encoder]] * len(items_not_watched), items_not_watched)\n",
    ")\n",
    "ratings = model.predict(user_item_array).flatten()\n",
    "top_ratings_indices = ratings.argsort()[-10:][::-1]\n",
    "recommended_item_ids = [\n",
    "    item_encoded2item.get(items_not_watched[x][0]) for x in top_ratings_indices\n",
    "]\n"
   ]
  },
  {
   "cell_type": "code",
   "execution_count": null,
   "id": "8c8c9830",
   "metadata": {},
   "outputs": [],
   "source": []
  },
  {
   "cell_type": "code",
   "execution_count": 56,
   "id": "892de546",
   "metadata": {},
   "outputs": [
    {
     "name": "stdout",
     "output_type": "stream",
     "text": [
      "Showing recommendations for user: 20264\n",
      "====================================\n",
      "Books with high ratings from user\n",
      "--------------------------------\n",
      "Girl with a Pearl Earring by Tracy Chevalier\n",
      "--------------------------------\n",
      "Top 10 book recommendations\n",
      "--------------------------------\n",
      "Animal Farm: A Fairy Story by George Orwell\n",
      "Jurassic Park by Michael Crichton\n",
      "El amor en los tiempos del cólera by Gabriel García Márquez, Edith Grossman\n",
      "The Andromeda Strain by Michael Crichton\n",
      "Timeline by Michael Crichton\n",
      "Sherlock Holmes: The Complete Novels and Stories, Vol 2 by Arthur Conan Doyle, Kyle Freeman\n",
      "Next by Michael Crichton\n",
      "Ὀρέστεια by Aeschylus, Robert Fagles, William Bedell Stanford\n",
      "The Terminal Man by Michael Crichton\n",
      "Cradle to Cradle: Remaking the Way We Make Things by William McDonough, Michael Braungart\n"
     ]
    }
   ],
   "source": [
    "print(\"Showing recommendations for user: {}\".format(uid))\n",
    "print(\"====\" * 9)\n",
    "print(\"Books with high ratings from user\")\n",
    "print(\"----\" * 8)\n",
    "top_item_user = (\n",
    "    items_by_user.sort_values(by=\"rating\", ascending=False)\n",
    "    .head(5)\n",
    "    .book_id.values\n",
    ")\n",
    "items_df_rows = items_df[items_df[\"book_id\"].isin(top_item_user)]\n",
    "for row in items_df_rows.itertuples():\n",
    "    print(row.original_title, \"by\", row.authors)\n",
    "\n",
    "print(\"----\" * 8)\n",
    "print(\"Top 10 book recommendations\")\n",
    "print(\"----\" * 8)\n",
    "recommended_items = items_df[items_df[\"book_id\"].isin(recommended_item_ids)]\n",
    "for row in recommended_items.itertuples():\n",
    "    print(row.original_title, \"by\", row.authors)"
   ]
  },
  {
   "cell_type": "code",
   "execution_count": null,
   "id": "e2f0aeda",
   "metadata": {},
   "outputs": [],
   "source": []
  }
 ],
 "metadata": {
  "kernelspec": {
   "display_name": "Python 3 (ipykernel)",
   "language": "python",
   "name": "python3"
  },
  "language_info": {
   "codemirror_mode": {
    "name": "ipython",
    "version": 3
   },
   "file_extension": ".py",
   "mimetype": "text/x-python",
   "name": "python",
   "nbconvert_exporter": "python",
   "pygments_lexer": "ipython3",
   "version": "3.8.12"
  }
 },
 "nbformat": 4,
 "nbformat_minor": 5
}
